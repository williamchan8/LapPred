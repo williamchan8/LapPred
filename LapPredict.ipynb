{
 "cells": [
  {
   "cell_type": "code",
   "execution_count": 16,
   "id": "58fdb6db",
   "metadata": {},
   "outputs": [],
   "source": [
    "import fastf1 as ff1\n",
    "import pandas as pd\n",
    "from fastf1 import plotting\n",
    "from matplotlib import pyplot as plt\n",
    "import tensorflow as tf\n",
    "\n",
    "from sklearn.linear_model import LinearRegression\n",
    "from sklearn.model_selection import train_test_split\n",
    "from sklearn.impute import SimpleImputer\n",
    "import joblib\n",
    "\n",
    "from sklearn.ensemble import RandomForestRegressor\n",
    "from sklearn.metrics import mean_squared_error"
   ]
  },
  {
   "cell_type": "code",
   "execution_count": 24,
   "id": "274d500f-57e3-46d1-b0d3-61a38ad8217c",
   "metadata": {},
   "outputs": [],
   "source": [
    "def check_gpu():\n",
    "    print(\"Num GPUs Available: \", len(tf.config.list_physical_devices('GPU')))\n",
    "    print(\"Built with CUDA: \", tf.test.is_built_with_cuda())\n",
    "    print(\"GPU Available: \", tf.test.is_gpu_available(cuda_only=False, min_cuda_compute_capability=None))\n",
    "\n",
    "def get_race_data_for_year(year=2023):\n",
    "    race_number = 1\n",
    "    all_data = []\n",
    "    while True:\n",
    "        try:\n",
    "            session = ff1.get_session(year, race_number, 'R')\n",
    "            session.load()\n",
    "            for index, lap in session.laps.iterrows():\n",
    "                weather = lap.get_weather_data()\n",
    "                car = lap.get_car_data()\n",
    "                driver_data = {\n",
    "                    'race_name': session.event['EventName'],\n",
    "                    'race_date': session.date,\n",
    "                    'race_number': race_number,\n",
    "                    'driver': lap['Driver'],\n",
    "                    'lap_number': lap['LapNumber'],\n",
    "                    'sector1': lap['Sector1Time'],\n",
    "                    'sector2': lap['Sector2Time'],\n",
    "                    'sector3': lap['Sector3Time'],\n",
    "                    'tire_life': lap['TyreLife'],\n",
    "                    'fresh_tire': lap['FreshTyre'],\n",
    "                    'compound' : lap['Compound'],\n",
    "                    'accurate': lap['IsAccurate'],\n",
    "                    'stint': lap['Stint'],\n",
    "                    'air_temp' : weather['AirTemp'],\n",
    "                    'humidity' : weather['Humidity'],\n",
    "                    'pressure' : weather['Pressure'],\n",
    "                    'rainfall' : weather['Rainfall'],\n",
    "                    'track_temp': weather['TrackTemp'],\n",
    "                    'wind_direction' : weather['WindDirection'],\n",
    "                    'wind_speed' : weather['WindSpeed'],\n",
    "                    'drs' : car['DRS']\n",
    "                }\n",
    "                all_data.append(driver_data)\n",
    "            \n",
    "            print(f\"Fetched data for {session.event['EventName']}\")\n",
    "            race_number += 1\n",
    "        except Exception as e:\n",
    "            print(f\"Stopped at race number {race_number - 1}. Error: {e}\")\n",
    "            break\n",
    "    return all_data\n",
    "    \n",
    "def process_dataframe(data):\n",
    "    df = pd.DataFrame(data)\n",
    "    \n",
    "    #Encode Drivers\n",
    "    df['driver_id'] = df['driver'].astype('category').cat.codes\n",
    "    \n",
    "    #Round from date-time to 3 decimals\n",
    "    df['sector1'] = (df['sector1'].dt.total_seconds()).round(3)\n",
    "    df['sector2'] = (df['sector2'].dt.total_seconds()).round(3)\n",
    "    df['sector3'] = (df['sector3'].dt.total_seconds()).round(3)\n",
    "    df = pd.get_dummies(df, columns=['compound'], prefix='compound')\n",
    "    \n",
    "    #\n",
    "    bool_cols = ['fresh_tire', 'rainfall', 'accurate', 'compound_HARD', 'compound_INTERMEDIATE', 'compound_MEDIUM', 'compound_SOFT', 'compound_WET']\n",
    "    for col in bool_cols:\n",
    "        df[col] = df[col].astype(int)\n",
    "    \n",
    "    df.dropna(inplace=True)\n",
    "    return df\n",
    "\n",
    "def train_and_evaluate(data, model, features, target):\n",
    "    # Sort the dataset by date\n",
    "    data = data.sort_values(by='race_date')\n",
    "\n",
    "    # Determine the split point\n",
    "    num_races = data['race_number'].nunique()\n",
    "    train_races = int(0.6 * num_races)\n",
    "\n",
    "    # Get the race number where the split should occur\n",
    "    split_race_number = data['race_number'].unique()[train_races]\n",
    "\n",
    "    # Create train and test sets based on the split_race_number\n",
    "    train_df = data[data['race_number'] <= split_race_number]\n",
    "    test_df = data[data['race_number'] > split_race_number]\n",
    "\n",
    "    X_train = train_df[features]\n",
    "    y_train = train_df[target]\n",
    "    X_test = test_df[features]\n",
    "    y_test = test_df[target]\n",
    "\n",
    "    # Train the model\n",
    "    model.fit(X_train, y_train)\n",
    "\n",
    "    # Make predictions\n",
    "    predictions = model.predict(X_test)\n",
    "\n",
    "    # Calculate MSE\n",
    "    mse = mean_squared_error(y_test, predictions)\n",
    "    \n",
    "    return mse\n",
    "\n",
    "def train_test_split_by_race(df,ratio):\n",
    "    df_encoded = df.sort_values(by='race_date')\n",
    "    num_races = df_encoded['race_number'].nunique()\n",
    "    train_races = int(ratio * num_races)\n",
    "    split_race_number = df_encoded['race_number'].unique()[train_races]\n",
    "\n",
    "    train_df = df_encoded[df_encoded['race_number'] <= split_race_number]\n",
    "    test_df = df_encoded[df_encoded['race_number'] > split_race_number]\n",
    "    return train_df, test_df"
   ]
  },
  {
   "cell_type": "markdown",
   "id": "f17be200-85fc-4a48-8ed2-f5bf395960f3",
   "metadata": {},
   "source": [
    "# Data Acquisitions\n",
    "Accessing the 2023 season to get all race session data. Features include \n",
    "* Race Name\n",
    "* Date\n",
    "* Race Number (Events are number chronologically)\n",
    "* Driver (3 letter name)\n",
    "* Lap Number\n",
    "* Sector Times\n",
    "* Tire - Life, if Fresh, Compound\n",
    "* Weather - Air + Track Temp, Humidity, Pressure, Rainfall, Wind Speed/Direction"
   ]
  },
  {
   "cell_type": "code",
   "execution_count": 25,
   "id": "72903072-3ffa-4369-a4a6-72c3739f5552",
   "metadata": {},
   "outputs": [
    {
     "name": "stdout",
     "output_type": "stream",
     "text": [
      "Num GPUs Available:  0\n",
      "Built with CUDA:  False\n",
      "GPU Available:  False\n"
     ]
    },
    {
     "name": "stderr",
     "output_type": "stream",
     "text": [
      "core           INFO \tLoading data for Bahrain Grand Prix - Race [v3.1.3]\n",
      "req            INFO \tUsing cached data for session_info\n",
      "req            INFO \tUsing cached data for driver_info\n",
      "req            INFO \tUsing cached data for session_status_data\n",
      "req            INFO \tUsing cached data for lap_count\n",
      "req            INFO \tUsing cached data for track_status_data\n",
      "req            INFO \tUsing cached data for _extended_timing_data\n",
      "req            INFO \tUsing cached data for timing_app_data\n",
      "core           INFO \tProcessing timing data...\n",
      "req            INFO \tUsing cached data for car_data\n",
      "req            INFO \tUsing cached data for position_data\n",
      "req            INFO \tUsing cached data for weather_data\n",
      "req            INFO \tUsing cached data for race_control_messages\n",
      "core           INFO \tFinished loading data for 20 drivers: ['1', '11', '14', '55', '44', '18', '63', '77', '10', '23', '22', '2', '20', '21', '27', '24', '4', '31', '16', '81']\n",
      "core           INFO \tLoading data for Saudi Arabian Grand Prix - Race [v3.1.3]\n",
      "req            INFO \tUsing cached data for session_info\n",
      "req            INFO \tUsing cached data for driver_info\n"
     ]
    },
    {
     "name": "stdout",
     "output_type": "stream",
     "text": [
      "Fetched data for Bahrain Grand Prix\n"
     ]
    },
    {
     "name": "stderr",
     "output_type": "stream",
     "text": [
      "req            INFO \tUsing cached data for session_status_data\n",
      "req            INFO \tUsing cached data for lap_count\n",
      "req            INFO \tUsing cached data for track_status_data\n",
      "req            INFO \tUsing cached data for _extended_timing_data\n",
      "req            INFO \tUsing cached data for timing_app_data\n",
      "core           INFO \tProcessing timing data...\n",
      "req            INFO \tUsing cached data for car_data\n",
      "req            INFO \tUsing cached data for position_data\n",
      "req            INFO \tUsing cached data for weather_data\n",
      "req            INFO \tUsing cached data for race_control_messages\n",
      "core           INFO \tFinished loading data for 20 drivers: ['11', '1', '14', '63', '44', '55', '16', '31', '10', '20', '22', '27', '24', '21', '81', '2', '4', '77', '23', '18']\n",
      "core           INFO \tLoading data for Australian Grand Prix - Race [v3.1.3]\n",
      "req            INFO \tUsing cached data for session_info\n",
      "req            INFO \tUsing cached data for driver_info\n"
     ]
    },
    {
     "name": "stdout",
     "output_type": "stream",
     "text": [
      "Fetched data for Saudi Arabian Grand Prix\n"
     ]
    },
    {
     "name": "stderr",
     "output_type": "stream",
     "text": [
      "req            INFO \tUsing cached data for session_status_data\n",
      "req            INFO \tUsing cached data for lap_count\n",
      "req            INFO \tUsing cached data for track_status_data\n",
      "req            INFO \tUsing cached data for _extended_timing_data\n",
      "req            INFO \tUsing cached data for timing_app_data\n",
      "core           INFO \tProcessing timing data...\n",
      "req            INFO \tUsing cached data for car_data\n",
      "req            INFO \tUsing cached data for position_data\n",
      "req            INFO \tUsing cached data for weather_data\n",
      "req            INFO \tUsing cached data for race_control_messages\n",
      "core           INFO \tFinished loading data for 20 drivers: ['1', '44', '14', '18', '11', '4', '27', '81', '24', '22', '77', '55', '10', '31', '21', '2', '20', '63', '23', '16']\n",
      "core           INFO \tLoading data for Azerbaijan Grand Prix - Race [v3.1.3]\n",
      "req            INFO \tUsing cached data for session_info\n",
      "req            INFO \tUsing cached data for driver_info\n"
     ]
    },
    {
     "name": "stdout",
     "output_type": "stream",
     "text": [
      "Fetched data for Australian Grand Prix\n"
     ]
    },
    {
     "name": "stderr",
     "output_type": "stream",
     "text": [
      "req            INFO \tUsing cached data for session_status_data\n",
      "req            INFO \tUsing cached data for lap_count\n",
      "req            INFO \tUsing cached data for track_status_data\n",
      "req            INFO \tUsing cached data for _extended_timing_data\n",
      "req            INFO \tUsing cached data for timing_app_data\n",
      "core           INFO \tProcessing timing data...\n",
      "req            INFO \tUsing cached data for car_data\n",
      "req            INFO \tUsing cached data for position_data\n",
      "req            INFO \tUsing cached data for weather_data\n",
      "req            INFO \tUsing cached data for race_control_messages\n",
      "core           INFO \tFinished loading data for 20 drivers: ['11', '1', '16', '14', '55', '44', '18', '63', '4', '22', '81', '23', '20', '10', '31', '2', '27', '77', '24', '21']\n",
      "core           INFO \tLoading data for Miami Grand Prix - Race [v3.1.3]\n",
      "req            INFO \tUsing cached data for session_info\n",
      "req            INFO \tUsing cached data for driver_info\n"
     ]
    },
    {
     "name": "stdout",
     "output_type": "stream",
     "text": [
      "Fetched data for Azerbaijan Grand Prix\n"
     ]
    },
    {
     "name": "stderr",
     "output_type": "stream",
     "text": [
      "req            INFO \tUsing cached data for session_status_data\n",
      "req            INFO \tUsing cached data for lap_count\n",
      "req            INFO \tUsing cached data for track_status_data\n",
      "req            INFO \tUsing cached data for _extended_timing_data\n",
      "req            INFO \tUsing cached data for timing_app_data\n",
      "core           INFO \tProcessing timing data...\n",
      "req            INFO \tUsing cached data for car_data\n",
      "req            INFO \tUsing cached data for position_data\n",
      "req            INFO \tUsing cached data for weather_data\n",
      "req            INFO \tUsing cached data for race_control_messages\n",
      "core           INFO \tFinished loading data for 20 drivers: ['1', '11', '14', '63', '55', '44', '16', '10', '31', '20', '22', '18', '77', '23', '27', '24', '4', '21', '81', '2']\n",
      "core           INFO \tLoading data for Monaco Grand Prix - Race [v3.1.3]\n",
      "req            INFO \tUsing cached data for session_info\n",
      "req            INFO \tUsing cached data for driver_info\n"
     ]
    },
    {
     "name": "stdout",
     "output_type": "stream",
     "text": [
      "Fetched data for Miami Grand Prix\n"
     ]
    },
    {
     "name": "stderr",
     "output_type": "stream",
     "text": [
      "req            INFO \tUsing cached data for session_status_data\n",
      "req            INFO \tUsing cached data for lap_count\n",
      "req            INFO \tUsing cached data for track_status_data\n",
      "req            INFO \tUsing cached data for _extended_timing_data\n",
      "req            INFO \tUsing cached data for timing_app_data\n",
      "core           INFO \tProcessing timing data...\n",
      "req            INFO \tUsing cached data for car_data\n",
      "req            INFO \tUsing cached data for position_data\n",
      "req            INFO \tUsing cached data for weather_data\n",
      "req            INFO \tUsing cached data for race_control_messages\n",
      "core           INFO \tFinished loading data for 20 drivers: ['1', '14', '31', '44', '63', '16', '10', '55', '4', '81', '77', '21', '24', '23', '22', '11', '27', '2', '20', '18']\n",
      "core           INFO \tLoading data for Spanish Grand Prix - Race [v3.1.3]\n",
      "req            INFO \tUsing cached data for session_info\n",
      "req            INFO \tUsing cached data for driver_info\n"
     ]
    },
    {
     "name": "stdout",
     "output_type": "stream",
     "text": [
      "Fetched data for Monaco Grand Prix\n"
     ]
    },
    {
     "name": "stderr",
     "output_type": "stream",
     "text": [
      "req            INFO \tUsing cached data for session_status_data\n",
      "req            INFO \tUsing cached data for lap_count\n",
      "req            INFO \tUsing cached data for track_status_data\n",
      "req            INFO \tUsing cached data for _extended_timing_data\n",
      "req            INFO \tUsing cached data for timing_app_data\n",
      "core           INFO \tProcessing timing data...\n",
      "req            INFO \tUsing cached data for car_data\n",
      "req            INFO \tUsing cached data for position_data\n",
      "req            INFO \tUsing cached data for weather_data\n",
      "req            INFO \tUsing cached data for race_control_messages\n",
      "core           INFO \tFinished loading data for 20 drivers: ['1', '44', '63', '11', '55', '18', '14', '31', '24', '10', '16', '22', '81', '21', '27', '23', '4', '20', '77', '2']\n",
      "core           INFO \tLoading data for Canadian Grand Prix - Race [v3.1.3]\n",
      "req            INFO \tUsing cached data for session_info\n",
      "req            INFO \tUsing cached data for driver_info\n"
     ]
    },
    {
     "name": "stdout",
     "output_type": "stream",
     "text": [
      "Fetched data for Spanish Grand Prix\n"
     ]
    },
    {
     "name": "stderr",
     "output_type": "stream",
     "text": [
      "req            INFO \tUsing cached data for session_status_data\n",
      "req            INFO \tUsing cached data for lap_count\n",
      "req            INFO \tUsing cached data for track_status_data\n",
      "req            INFO \tUsing cached data for _extended_timing_data\n",
      "req            INFO \tUsing cached data for timing_app_data\n",
      "core           INFO \tProcessing timing data...\n",
      "req            INFO \tUsing cached data for car_data\n",
      "req            INFO \tUsing cached data for position_data\n",
      "req            INFO \tUsing cached data for weather_data\n",
      "req            INFO \tUsing cached data for race_control_messages\n",
      "core           INFO \tFinished loading data for 20 drivers: ['1', '14', '44', '16', '55', '11', '23', '31', '18', '77', '81', '10', '4', '22', '27', '24', '20', '21', '63', '2']\n",
      "core           INFO \tLoading data for Austrian Grand Prix - Race [v3.1.3]\n",
      "req            INFO \tUsing cached data for session_info\n",
      "req            INFO \tUsing cached data for driver_info\n"
     ]
    },
    {
     "name": "stdout",
     "output_type": "stream",
     "text": [
      "Fetched data for Canadian Grand Prix\n"
     ]
    },
    {
     "name": "stderr",
     "output_type": "stream",
     "text": [
      "req            INFO \tUsing cached data for session_status_data\n",
      "req            INFO \tUsing cached data for lap_count\n",
      "req            INFO \tUsing cached data for track_status_data\n",
      "req            INFO \tUsing cached data for _extended_timing_data\n",
      "req            INFO \tUsing cached data for timing_app_data\n",
      "core           INFO \tProcessing timing data...\n",
      "req            INFO \tUsing cached data for car_data\n",
      "req            INFO \tUsing cached data for position_data\n",
      "req            INFO \tUsing cached data for weather_data\n",
      "req            INFO \tUsing cached data for race_control_messages\n",
      "core           INFO \tFinished loading data for 20 drivers: ['1', '16', '11', '4', '14', '55', '63', '44', '18', '10', '23', '24', '2', '31', '77', '81', '21', '20', '22', '27']\n",
      "core           INFO \tLoading data for British Grand Prix - Race [v3.1.3]\n",
      "req            INFO \tUsing cached data for session_info\n",
      "req            INFO \tUsing cached data for driver_info\n"
     ]
    },
    {
     "name": "stdout",
     "output_type": "stream",
     "text": [
      "Fetched data for Austrian Grand Prix\n"
     ]
    },
    {
     "name": "stderr",
     "output_type": "stream",
     "text": [
      "req            INFO \tUsing cached data for session_status_data\n",
      "req            INFO \tUsing cached data for lap_count\n",
      "req            INFO \tUsing cached data for track_status_data\n",
      "req            INFO \tUsing cached data for _extended_timing_data\n",
      "req            INFO \tUsing cached data for timing_app_data\n",
      "core           INFO \tProcessing timing data...\n",
      "req            INFO \tUsing cached data for car_data\n",
      "req            INFO \tUsing cached data for position_data\n",
      "req            INFO \tUsing cached data for weather_data\n",
      "req            INFO \tUsing cached data for race_control_messages\n",
      "core           INFO \tFinished loading data for 20 drivers: ['1', '4', '44', '81', '63', '11', '14', '23', '16', '55', '2', '77', '27', '18', '24', '22', '21', '10', '20', '31']\n",
      "core           INFO \tLoading data for Hungarian Grand Prix - Race [v3.1.3]\n",
      "req            INFO \tUsing cached data for session_info\n",
      "req            INFO \tUsing cached data for driver_info\n"
     ]
    },
    {
     "name": "stdout",
     "output_type": "stream",
     "text": [
      "Fetched data for British Grand Prix\n"
     ]
    },
    {
     "name": "stderr",
     "output_type": "stream",
     "text": [
      "req            INFO \tUsing cached data for session_status_data\n",
      "req            INFO \tUsing cached data for lap_count\n",
      "req            INFO \tUsing cached data for track_status_data\n",
      "req            INFO \tUsing cached data for _extended_timing_data\n",
      "req            INFO \tUsing cached data for timing_app_data\n",
      "core           INFO \tProcessing timing data...\n",
      "req            INFO \tUsing cached data for car_data\n",
      "req            INFO \tUsing cached data for position_data\n",
      "req            INFO \tUsing cached data for weather_data\n",
      "req            INFO \tUsing cached data for race_control_messages\n",
      "core           INFO \tFinished loading data for 20 drivers: ['1', '4', '11', '44', '81', '63', '16', '55', '14', '18', '23', '77', '3', '27', '22', '24', '20', '2', '31', '10']\n",
      "core           INFO \tLoading data for Belgian Grand Prix - Race [v3.1.3]\n",
      "req            INFO \tUsing cached data for session_info\n",
      "req            INFO \tUsing cached data for driver_info\n"
     ]
    },
    {
     "name": "stdout",
     "output_type": "stream",
     "text": [
      "Fetched data for Hungarian Grand Prix\n"
     ]
    },
    {
     "name": "stderr",
     "output_type": "stream",
     "text": [
      "req            INFO \tUsing cached data for session_status_data\n",
      "req            INFO \tUsing cached data for lap_count\n",
      "req            INFO \tUsing cached data for track_status_data\n",
      "req            INFO \tUsing cached data for _extended_timing_data\n",
      "req            INFO \tUsing cached data for timing_app_data\n",
      "core           INFO \tProcessing timing data...\n",
      "req            INFO \tUsing cached data for car_data\n",
      "req            INFO \tUsing cached data for position_data\n",
      "req            INFO \tUsing cached data for weather_data\n",
      "req            INFO \tUsing cached data for race_control_messages\n",
      "core           INFO \tFinished loading data for 20 drivers: ['1', '11', '16', '44', '14', '63', '4', '31', '18', '22', '10', '77', '24', '23', '20', '3', '2', '27', '55', '81']\n",
      "core           INFO \tLoading data for Dutch Grand Prix - Race [v3.1.3]\n",
      "req            INFO \tUsing cached data for session_info\n",
      "req            INFO \tUsing cached data for driver_info\n"
     ]
    },
    {
     "name": "stdout",
     "output_type": "stream",
     "text": [
      "Fetched data for Belgian Grand Prix\n"
     ]
    },
    {
     "name": "stderr",
     "output_type": "stream",
     "text": [
      "req            INFO \tUsing cached data for session_status_data\n",
      "req            INFO \tUsing cached data for lap_count\n",
      "req            INFO \tUsing cached data for track_status_data\n",
      "req            INFO \tUsing cached data for _extended_timing_data\n",
      "req            INFO \tUsing cached data for timing_app_data\n",
      "core           INFO \tProcessing timing data...\n",
      "req            INFO \tUsing cached data for car_data\n",
      "req            INFO \tUsing cached data for position_data\n",
      "req            INFO \tUsing cached data for weather_data\n",
      "req            INFO \tUsing cached data for race_control_messages\n",
      "core           INFO \tFinished loading data for 20 drivers: ['1', '14', '10', '11', '55', '44', '4', '23', '81', '31', '18', '27', '40', '77', '22', '20', '63', '24', '16', '2']\n",
      "core           INFO \tLoading data for Italian Grand Prix - Race [v3.1.3]\n",
      "req            INFO \tUsing cached data for session_info\n",
      "req            INFO \tUsing cached data for driver_info\n"
     ]
    },
    {
     "name": "stdout",
     "output_type": "stream",
     "text": [
      "Fetched data for Dutch Grand Prix\n"
     ]
    },
    {
     "name": "stderr",
     "output_type": "stream",
     "text": [
      "req            INFO \tUsing cached data for session_status_data\n",
      "req            INFO \tUsing cached data for lap_count\n",
      "req            INFO \tUsing cached data for track_status_data\n",
      "req            INFO \tUsing cached data for _extended_timing_data\n",
      "req            INFO \tUsing cached data for timing_app_data\n",
      "core           INFO \tProcessing timing data...\n",
      "req            INFO \tUsing cached data for car_data\n",
      "req            INFO \tUsing cached data for position_data\n",
      "req            INFO \tUsing cached data for weather_data\n",
      "req            INFO \tUsing cached data for race_control_messages\n",
      "core           INFO \tFinished loading data for 20 drivers: ['1', '11', '55', '16', '63', '44', '23', '4', '14', '77', '40', '81', '2', '24', '10', '18', '27', '20', '31', '22']\n",
      "core           INFO \tLoading data for Singapore Grand Prix - Race [v3.1.3]\n",
      "req            INFO \tUsing cached data for session_info\n",
      "req            INFO \tUsing cached data for driver_info\n"
     ]
    },
    {
     "name": "stdout",
     "output_type": "stream",
     "text": [
      "Fetched data for Italian Grand Prix\n"
     ]
    },
    {
     "name": "stderr",
     "output_type": "stream",
     "text": [
      "req            INFO \tUsing cached data for session_status_data\n",
      "req            INFO \tUsing cached data for lap_count\n",
      "req            INFO \tUsing cached data for track_status_data\n",
      "req            INFO \tUsing cached data for _extended_timing_data\n",
      "req            INFO \tUsing cached data for timing_app_data\n",
      "core           INFO \tProcessing timing data...\n",
      "core        WARNING \tNo lap data for driver 18\n",
      "core        WARNING \tFailed to perform lap accuracy check - all laps marked as inaccurate.\n",
      "req            INFO \tUsing cached data for car_data\n",
      "req            INFO \tUsing cached data for position_data\n",
      "req            INFO \tUsing cached data for weather_data\n",
      "req            INFO \tUsing cached data for race_control_messages\n",
      "core           INFO \tFinished loading data for 20 drivers: ['55', '4', '44', '16', '1', '10', '81', '11', '40', '20', '23', '24', '27', '2', '14', '63', '77', '31', '22', '18']\n",
      "core           INFO \tLoading data for Japanese Grand Prix - Race [v3.1.3]\n",
      "req            INFO \tUsing cached data for session_info\n",
      "req            INFO \tUsing cached data for driver_info\n"
     ]
    },
    {
     "name": "stdout",
     "output_type": "stream",
     "text": [
      "Fetched data for Singapore Grand Prix\n"
     ]
    },
    {
     "name": "stderr",
     "output_type": "stream",
     "text": [
      "req            INFO \tUsing cached data for session_status_data\n",
      "req            INFO \tUsing cached data for lap_count\n",
      "req            INFO \tUsing cached data for track_status_data\n",
      "req            INFO \tUsing cached data for _extended_timing_data\n",
      "req            INFO \tUsing cached data for timing_app_data\n",
      "core           INFO \tProcessing timing data...\n",
      "req            INFO \tUsing cached data for car_data\n",
      "req            INFO \tUsing cached data for position_data\n",
      "req            INFO \tUsing cached data for weather_data\n",
      "req            INFO \tUsing cached data for race_control_messages\n",
      "core           INFO \tFinished loading data for 20 drivers: ['1', '4', '81', '16', '44', '55', '63', '14', '31', '10', '40', '22', '24', '27', '20', '23', '2', '18', '11', '77']\n",
      "core           INFO \tLoading data for Qatar Grand Prix - Race [v3.1.3]\n",
      "req            INFO \tUsing cached data for session_info\n",
      "req            INFO \tUsing cached data for driver_info\n"
     ]
    },
    {
     "name": "stdout",
     "output_type": "stream",
     "text": [
      "Fetched data for Japanese Grand Prix\n"
     ]
    },
    {
     "name": "stderr",
     "output_type": "stream",
     "text": [
      "req            INFO \tUsing cached data for session_status_data\n",
      "req            INFO \tUsing cached data for lap_count\n",
      "req            INFO \tUsing cached data for track_status_data\n",
      "req            INFO \tUsing cached data for _extended_timing_data\n",
      "req            INFO \tUsing cached data for timing_app_data\n",
      "core           INFO \tProcessing timing data...\n",
      "core        WARNING \tNo lap data for driver 55\n",
      "core        WARNING \tFailed to perform lap accuracy check - all laps marked as inaccurate.\n",
      "req            INFO \tUsing cached data for car_data\n",
      "req            INFO \tUsing cached data for position_data\n",
      "req            INFO \tUsing cached data for weather_data\n",
      "req            INFO \tUsing cached data for race_control_messages\n",
      "core           INFO \tFinished loading data for 20 drivers: ['1', '81', '4', '63', '16', '14', '31', '77', '24', '11', '18', '10', '23', '20', '22', '27', '40', '2', '44', '55']\n",
      "core           INFO \tLoading data for United States Grand Prix - Race [v3.1.3]\n",
      "req            INFO \tNo cached data found for session_info. Loading data...\n",
      "_api           INFO \tFetching session info data...\n"
     ]
    },
    {
     "name": "stdout",
     "output_type": "stream",
     "text": [
      "Fetched data for Qatar Grand Prix\n"
     ]
    },
    {
     "name": "stderr",
     "output_type": "stream",
     "text": [
      "logger      WARNING \tFailed to load session info data!\n",
      "req            INFO \tNo cached data found for driver_info. Loading data...\n",
      "_api           INFO \tFetching driver list...\n",
      "core        WARNING \tFailed to load extended driver information!\n",
      "core        WARNING \tNo result data for this session available on Ergast! (This is expected for recent sessions)\n",
      "logger      WARNING \tFailed to load results data!\n",
      "req            INFO \tNo cached data found for session_status_data. Loading data...\n",
      "_api           INFO \tFetching session status data...\n",
      "logger      WARNING \tFailed to load session status data!\n",
      "req            INFO \tNo cached data found for lap_count. Loading data...\n",
      "_api           INFO \tFetching lap count data...\n",
      "logger      WARNING \tFailed to load total lap count!\n",
      "req            INFO \tNo cached data found for track_status_data. Loading data...\n",
      "_api           INFO \tFetching track status data...\n",
      "logger      WARNING \tFailed to load track status data!\n",
      "req            INFO \tNo cached data found for _extended_timing_data. Loading data...\n",
      "_api           INFO \tFetching timing data...\n",
      "logger      WARNING \tFailed to load timing data!\n",
      "core        WARNING \tCannot load lap times for first lap from Ergast. Timing data is not available for this session.\n",
      "req            INFO \tNo cached data found for car_data. Loading data...\n",
      "_api           INFO \tFetching car data...\n",
      "core        WARNING \tCar telemetry data is unavailable!\n",
      "req            INFO \tNo cached data found for position_data. Loading data...\n",
      "_api           INFO \tFetching position data...\n",
      "core        WARNING \tCar position data is unavailable!\n",
      "core        WARNING \tFailed to determine `Session.t0_date`!\n",
      "req            INFO \tNo cached data found for weather_data. Loading data...\n",
      "_api           INFO \tFetching weather data...\n",
      "logger      WARNING \tFailed to load weather data!\n",
      "req            INFO \tNo cached data found for race_control_messages. Loading data...\n",
      "_api           INFO \tFetching race control messages...\n",
      "logger      WARNING \tFailed to load race control messages!\n"
     ]
    },
    {
     "name": "stdout",
     "output_type": "stream",
     "text": [
      "Stopped at race number 17. Error: The data you are trying to access has not been loaded yet. See `Session.load`\n"
     ]
    }
   ],
   "source": [
    "def main():\n",
    "    check_gpu()\n",
    "    ff1.Cache.enable_cache(\"D:\\\\f1predict\\\\data\")\n",
    "    all_data_2023 = get_race_data_for_year()\n",
    "    df = process_dataframe(all_data_2023)\n",
    "\n",
    "\n",
    "if __name__ == '__main__':\n",
    "    main()"
   ]
  },
  {
   "cell_type": "code",
   "execution_count": 22,
   "id": "146bb9a6-282a-4f2d-aba6-f58910efe40e",
   "metadata": {},
   "outputs": [
    {
     "name": "stdout",
     "output_type": "stream",
     "text": [
      "                race_name           race_date  race_number driver  lap_number  \\\n",
      "1      Bahrain Grand Prix 2023-03-05 15:00:00            1    VER         2.0   \n",
      "2      Bahrain Grand Prix 2023-03-05 15:00:00            1    VER         3.0   \n",
      "3      Bahrain Grand Prix 2023-03-05 15:00:00            1    VER         4.0   \n",
      "4      Bahrain Grand Prix 2023-03-05 15:00:00            1    VER         5.0   \n",
      "5      Bahrain Grand Prix 2023-03-05 15:00:00            1    VER         6.0   \n",
      "...                   ...                 ...          ...    ...         ...   \n",
      "18917    Qatar Grand Prix 2023-10-08 17:00:00           17    SAR        36.0   \n",
      "18918    Qatar Grand Prix 2023-10-08 17:00:00           17    SAR        37.0   \n",
      "18919    Qatar Grand Prix 2023-10-08 17:00:00           17    SAR        38.0   \n",
      "18920    Qatar Grand Prix 2023-10-08 17:00:00           17    SAR        39.0   \n",
      "18921    Qatar Grand Prix 2023-10-08 17:00:00           17    SAR        40.0   \n",
      "\n",
      "       sector1  sector2  sector3  tire_life  fresh_tire  ...  rainfall  \\\n",
      "1       31.342   42.504   24.128        5.0           0  ...         0   \n",
      "2       31.388   42.469   24.149        6.0           0  ...         0   \n",
      "3       31.271   42.642   24.063        7.0           0  ...         0   \n",
      "4       31.244   42.724   24.067        8.0           0  ...         0   \n",
      "5       31.341   42.632   24.013        9.0           0  ...         0   \n",
      "...        ...      ...      ...        ...         ...  ...       ...   \n",
      "18917   32.772   30.294   25.988       10.0           1  ...         0   \n",
      "18918   32.614   30.202   26.065       11.0           1  ...         0   \n",
      "18919   32.626   30.234   26.116       12.0           1  ...         0   \n",
      "18920   32.604   30.890   26.093       13.0           1  ...         0   \n",
      "18921   33.166   31.513   46.982       14.0           1  ...         0   \n",
      "\n",
      "       track_temp  wind_direction  wind_speed  \\\n",
      "1            31.1             208         0.0   \n",
      "2            31.2             170         0.6   \n",
      "3            31.2             204         0.4   \n",
      "4            31.0             206         1.0   \n",
      "5            31.0             175         0.6   \n",
      "...           ...             ...         ...   \n",
      "18917        36.3             182         0.6   \n",
      "18918        36.1             203         1.5   \n",
      "18919        36.2             152         0.6   \n",
      "18920        36.2             169         0.8   \n",
      "18921        36.1             137         1.1   \n",
      "\n",
      "                                                     drs  compound_HARD  \\\n",
      "1      0      1\n",
      "1      1\n",
      "2      1\n",
      "3      1\n",
      "4      1\n",
      " ...              0   \n",
      "2      0      0\n",
      "1      0\n",
      "2      0\n",
      "3      0\n",
      "4      0\n",
      " ...              0   \n",
      "3      0      0\n",
      "1      0\n",
      "2      0\n",
      "3      0\n",
      "4      0\n",
      " ...              0   \n",
      "4      0      0\n",
      "1      0\n",
      "2      0\n",
      "3      0\n",
      "4      0\n",
      " ...              0   \n",
      "5      0      0\n",
      "1      0\n",
      "2      0\n",
      "3      0\n",
      "4      0\n",
      " ...              0   \n",
      "...                                                  ...            ...   \n",
      "18917  0      12\n",
      "1      12\n",
      "2      12\n",
      "3      12\n",
      "4     ...              1   \n",
      "18918  0      12\n",
      "1      12\n",
      "2      12\n",
      "3      12\n",
      "4     ...              1   \n",
      "18919  0      0\n",
      "1      0\n",
      "2      0\n",
      "3      0\n",
      "4      0\n",
      " ...              1   \n",
      "18920  0      0\n",
      "1      0\n",
      "2      0\n",
      "3      0\n",
      "4      0\n",
      " ...              1   \n",
      "18921  0      0\n",
      "1      0\n",
      "2      0\n",
      "3      0\n",
      "4      0\n",
      " ...              1   \n",
      "\n",
      "       compound_INTERMEDIATE  compound_MEDIUM  compound_SOFT compound_WET  \n",
      "1                          0                0              1            0  \n",
      "2                          0                0              1            0  \n",
      "3                          0                0              1            0  \n",
      "4                          0                0              1            0  \n",
      "5                          0                0              1            0  \n",
      "...                      ...              ...            ...          ...  \n",
      "18917                      0                0              0            0  \n",
      "18918                      0                0              0            0  \n",
      "18919                      0                0              0            0  \n",
      "18920                      0                0              0            0  \n",
      "18921                      0                0              0            0  \n",
      "\n",
      "[18457 rows x 25 columns]\n"
     ]
    }
   ],
   "source": []
  },
  {
   "cell_type": "markdown",
   "id": "9ccb1553",
   "metadata": {
    "jp-MarkdownHeadingCollapsed": true
   },
   "source": [
    "## Features\n",
    "   \n",
    "*Compound (str): Tyres event specific compound name: SOFT, MEDIUM, HARD, INTERMEDIATE, WET (One-Hot Encoded)\n",
    "\n",
    "*TyreLife (float): Laps driven on this tire (includes laps in other sessions for used sets of tires)\n",
    "\n",
    "*FreshTyre (bool): Tyre had TyreLife=0 at stint start, i.e. was a new tire\n",
    "\n",
    "\n",
    "*IsAccurate (bool): Indicates that the lap start and end time are synced correctly with other laps. Do not confuse this with the accuracy of the lap time or sector times. They are always considered to be accurate if they exist! If this value is True, the lap has passed as basic accuracy check for timing data. This does not guarantee accuracy but laps marked as inaccurate need to be handled with caution. They might contain errors which can not be spotted easily. Laps need to satisfy the following criteria to be marked as accurate:\n",
    "*Stint (float): Stint number"
   ]
  },
  {
   "cell_type": "markdown",
   "id": "1c705dd3",
   "metadata": {},
   "source": [
    "Coverting all columns that used True/False into 1/0, making it possible for the model to understand. "
   ]
  },
  {
   "cell_type": "markdown",
   "id": "060a4ca4",
   "metadata": {},
   "source": [
    "# Splitting the Data"
   ]
  },
  {
   "cell_type": "code",
   "execution_count": 47,
   "id": "705613be",
   "metadata": {},
   "outputs": [],
   "source": [
    "features = ['driver_id','lap_number', 'sector1', 'sector2', 'sector3', 'tire_life', 'fresh_tire', 'accurate', 'stint', \n",
    "            'compound_HARD', 'compound_INTERMEDIATE', 'compound_MEDIUM', 'compound_SOFT', 'compound_WET','air_temp','humidity','pressure','track_temp']\n",
    "X_train = train_df[features]\n",
    "y_train = train_df['sector1']  # or whichever is your target variable\n",
    "X_test = test_df[features]\n",
    "y_test = test_df['sector1']"
   ]
  },
  {
   "cell_type": "markdown",
   "id": "e88a6349-db66-4814-b3c8-1994a8898da9",
   "metadata": {},
   "source": [
    "# Race Simulation"
   ]
  },
  {
   "cell_type": "code",
   "execution_count": null,
   "id": "27158514-f6da-4158-bb2b-4ab16487ffa1",
   "metadata": {},
   "outputs": [],
   "source": [
    "class RaceSimulator:\n",
    "    def __init__(self, model):\n",
    "        self.drivers_state = {driver: conditions.copy() for driver, conditions in initial_conditions.items()}\n",
    "        self.model = model\n",
    "\n",
    "    def predict_next_lap(self, driver, current_conditions):\n",
    "        # Use the model to predict the next sector's time based on current_conditions\n",
    "        input_features = current_conditions\n",
    "        input_features['driver_id'] = driver\n",
    "        predicted_time = self.model.predict([input_features])\n",
    "        return predicted_time\n",
    "\n",
    "    def simulate_race_for_driver(self, driver, driver_conditions):\n",
    "        race_time = 0\n",
    "        for condition in driver_conditions:\n",
    "            race_time += self.predict_next_lap(driver, condition)\n",
    "        return race_time\n",
    "\n",
    "    def simulate_race(self, test_df):\n",
    "        results = {}\n",
    "        for driver in test_df['driver_id'].unique():\n",
    "            driver_data = test_df[test_df['driver_id'] == driver]\n",
    "            driver_conditions = driver_data.to_dict(orient='records')\n",
    "            results[driver] = self.simulate_race_for_driver(driver, driver_conditions)\n",
    "        return results"
   ]
  },
  {
   "cell_type": "code",
   "execution_count": null,
   "id": "4b915545-2960-4c15-bfc3-44cf39f59238",
   "metadata": {},
   "outputs": [],
   "source": [
    "# After train_and_evaluate\n",
    "model = RandomForestRegressor()\n",
    "mse = train_and_evaluate(data, model, features, target)\n",
    "\n",
    "simulator = RaceSimulator(model)  # initial_conditions is not used now, set to None\n",
    "race_results = simulator.simulate_race(test_df)\n",
    "print(race_results)"
   ]
  }
 ],
 "metadata": {
  "kernelspec": {
   "display_name": "predictf1",
   "language": "python",
   "name": "predictf1"
  },
  "language_info": {
   "codemirror_mode": {
    "name": "ipython",
    "version": 3
   },
   "file_extension": ".py",
   "mimetype": "text/x-python",
   "name": "python",
   "nbconvert_exporter": "python",
   "pygments_lexer": "ipython3",
   "version": "3.9.18"
  }
 },
 "nbformat": 4,
 "nbformat_minor": 5
}
